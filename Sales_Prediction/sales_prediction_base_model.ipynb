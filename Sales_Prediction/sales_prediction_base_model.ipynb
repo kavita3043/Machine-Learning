{
 "cells": [
  {
   "cell_type": "code",
   "execution_count": 1,
   "metadata": {},
   "outputs": [],
   "source": [
    "import pandas as pd\n",
    "import numpy as np\n",
    "\n",
    "from scipy.stats import mode\n",
    "\n",
    "import seaborn as sns\n",
    "import matplotlib.pyplot as plt\n",
    "%matplotlib inline\n",
    "\n",
    "from sklearn.model_selection import train_test_split, cross_validate\n",
    "from sklearn.preprocessing import OneHotEncoder\n",
    "\n",
    "from sklearn.ensemble import RandomForestRegressor, GradientBoostingRegressor"
   ]
  },
  {
   "cell_type": "code",
   "execution_count": 2,
   "metadata": {},
   "outputs": [
    {
     "data": {
      "text/plain": [
       "(8523, 12)"
      ]
     },
     "execution_count": 2,
     "metadata": {},
     "output_type": "execute_result"
    }
   ],
   "source": [
    "sales=pd.read_csv('sales_prediction.csv')\n",
    "sales.shape"
   ]
  },
  {
   "cell_type": "code",
   "execution_count": 3,
   "metadata": {},
   "outputs": [
    {
     "data": {
      "text/html": [
       "<div>\n",
       "<style scoped>\n",
       "    .dataframe tbody tr th:only-of-type {\n",
       "        vertical-align: middle;\n",
       "    }\n",
       "\n",
       "    .dataframe tbody tr th {\n",
       "        vertical-align: top;\n",
       "    }\n",
       "\n",
       "    .dataframe thead th {\n",
       "        text-align: right;\n",
       "    }\n",
       "</style>\n",
       "<table border=\"1\" class=\"dataframe\">\n",
       "  <thead>\n",
       "    <tr style=\"text-align: right;\">\n",
       "      <th></th>\n",
       "      <th>Item_Identifier</th>\n",
       "      <th>Item_Weight</th>\n",
       "      <th>Item_Fat_Content</th>\n",
       "      <th>Item_Visibility</th>\n",
       "      <th>Item_Type</th>\n",
       "      <th>Item_MRP</th>\n",
       "      <th>Outlet_Identifier</th>\n",
       "      <th>Outlet_Establishment_Year</th>\n",
       "      <th>Outlet_Size</th>\n",
       "      <th>Outlet_Location_Type</th>\n",
       "      <th>Outlet_Type</th>\n",
       "      <th>Item_Outlet_Sales</th>\n",
       "    </tr>\n",
       "  </thead>\n",
       "  <tbody>\n",
       "    <tr>\n",
       "      <th>0</th>\n",
       "      <td>FDA15</td>\n",
       "      <td>9.30</td>\n",
       "      <td>Low Fat</td>\n",
       "      <td>0.016047</td>\n",
       "      <td>Dairy</td>\n",
       "      <td>249.8092</td>\n",
       "      <td>OUT049</td>\n",
       "      <td>1999</td>\n",
       "      <td>Medium</td>\n",
       "      <td>Tier 1</td>\n",
       "      <td>Supermarket Type1</td>\n",
       "      <td>3735.1380</td>\n",
       "    </tr>\n",
       "    <tr>\n",
       "      <th>1</th>\n",
       "      <td>DRC01</td>\n",
       "      <td>5.92</td>\n",
       "      <td>Regular</td>\n",
       "      <td>0.019278</td>\n",
       "      <td>Soft Drinks</td>\n",
       "      <td>48.2692</td>\n",
       "      <td>OUT018</td>\n",
       "      <td>2009</td>\n",
       "      <td>Medium</td>\n",
       "      <td>Tier 3</td>\n",
       "      <td>Supermarket Type2</td>\n",
       "      <td>443.4228</td>\n",
       "    </tr>\n",
       "    <tr>\n",
       "      <th>2</th>\n",
       "      <td>FDN15</td>\n",
       "      <td>17.50</td>\n",
       "      <td>Low Fat</td>\n",
       "      <td>0.016760</td>\n",
       "      <td>Meat</td>\n",
       "      <td>141.6180</td>\n",
       "      <td>OUT049</td>\n",
       "      <td>1999</td>\n",
       "      <td>Medium</td>\n",
       "      <td>Tier 1</td>\n",
       "      <td>Supermarket Type1</td>\n",
       "      <td>2097.2700</td>\n",
       "    </tr>\n",
       "    <tr>\n",
       "      <th>3</th>\n",
       "      <td>FDX07</td>\n",
       "      <td>19.20</td>\n",
       "      <td>Regular</td>\n",
       "      <td>0.000000</td>\n",
       "      <td>Fruits and Vegetables</td>\n",
       "      <td>182.0950</td>\n",
       "      <td>OUT010</td>\n",
       "      <td>1998</td>\n",
       "      <td>NaN</td>\n",
       "      <td>Tier 3</td>\n",
       "      <td>Grocery Store</td>\n",
       "      <td>732.3800</td>\n",
       "    </tr>\n",
       "    <tr>\n",
       "      <th>4</th>\n",
       "      <td>NCD19</td>\n",
       "      <td>8.93</td>\n",
       "      <td>Low Fat</td>\n",
       "      <td>0.000000</td>\n",
       "      <td>Household</td>\n",
       "      <td>53.8614</td>\n",
       "      <td>OUT013</td>\n",
       "      <td>1987</td>\n",
       "      <td>High</td>\n",
       "      <td>Tier 3</td>\n",
       "      <td>Supermarket Type1</td>\n",
       "      <td>994.7052</td>\n",
       "    </tr>\n",
       "  </tbody>\n",
       "</table>\n",
       "</div>"
      ],
      "text/plain": [
       "  Item_Identifier  Item_Weight Item_Fat_Content  Item_Visibility  \\\n",
       "0           FDA15         9.30          Low Fat         0.016047   \n",
       "1           DRC01         5.92          Regular         0.019278   \n",
       "2           FDN15        17.50          Low Fat         0.016760   \n",
       "3           FDX07        19.20          Regular         0.000000   \n",
       "4           NCD19         8.93          Low Fat         0.000000   \n",
       "\n",
       "               Item_Type  Item_MRP Outlet_Identifier  \\\n",
       "0                  Dairy  249.8092            OUT049   \n",
       "1            Soft Drinks   48.2692            OUT018   \n",
       "2                   Meat  141.6180            OUT049   \n",
       "3  Fruits and Vegetables  182.0950            OUT010   \n",
       "4              Household   53.8614            OUT013   \n",
       "\n",
       "   Outlet_Establishment_Year Outlet_Size Outlet_Location_Type  \\\n",
       "0                       1999      Medium               Tier 1   \n",
       "1                       2009      Medium               Tier 3   \n",
       "2                       1999      Medium               Tier 1   \n",
       "3                       1998         NaN               Tier 3   \n",
       "4                       1987        High               Tier 3   \n",
       "\n",
       "         Outlet_Type  Item_Outlet_Sales  \n",
       "0  Supermarket Type1          3735.1380  \n",
       "1  Supermarket Type2           443.4228  \n",
       "2  Supermarket Type1          2097.2700  \n",
       "3      Grocery Store           732.3800  \n",
       "4  Supermarket Type1           994.7052  "
      ]
     },
     "execution_count": 3,
     "metadata": {},
     "output_type": "execute_result"
    }
   ],
   "source": [
    "sales.head()"
   ]
  },
  {
   "cell_type": "markdown",
   "metadata": {},
   "source": [
    "### Separating independent and dependent variabes as x and y respectively"
   ]
  },
  {
   "cell_type": "code",
   "execution_count": 4,
   "metadata": {},
   "outputs": [
    {
     "data": {
      "text/plain": [
       "((8523, 11), (8523,))"
      ]
     },
     "execution_count": 4,
     "metadata": {},
     "output_type": "execute_result"
    }
   ],
   "source": [
    "x=sales.drop(['Item_Outlet_Sales'], axis=1)\n",
    "y=sales['Item_Outlet_Sales']\n",
    "x.shape, y.shape"
   ]
  },
  {
   "cell_type": "markdown",
   "metadata": {},
   "source": [
    "### Preparing train and test datasets\n",
    "Train and test datasets have been split with 70-30 ratio. There is no fixed rule to choose this ratio. It can be changed based on the problem we are solving. For example, if we have very less data, we can go for 90-10 ratio as we want to use as more data for training. But if we have more data, we can increase the ratio for test dataset say 20 or 30."
   ]
  },
  {
   "cell_type": "code",
   "execution_count": 5,
   "metadata": {},
   "outputs": [],
   "source": [
    "x_train, x_test, y_train, y_test=train_test_split(x,y, test_size=0.3, random_state=42 )"
   ]
  },
  {
   "cell_type": "code",
   "execution_count": 6,
   "metadata": {},
   "outputs": [
    {
     "data": {
      "text/plain": [
       "((5966, 11), (2557, 11))"
      ]
     },
     "execution_count": 6,
     "metadata": {},
     "output_type": "execute_result"
    }
   ],
   "source": [
    "x_train.shape, x_test.shape"
   ]
  },
  {
   "cell_type": "markdown",
   "metadata": {},
   "source": [
    "#### Make a copy of the training data for explorations/cleaning/preprocessing"
   ]
  },
  {
   "cell_type": "code",
   "execution_count": 7,
   "metadata": {},
   "outputs": [],
   "source": [
    "x_train_c=x_train.copy()"
   ]
  },
  {
   "cell_type": "markdown",
   "metadata": {},
   "source": [
    "# EDA + Data Preprocessing + Feature Engineering"
   ]
  },
  {
   "cell_type": "markdown",
   "metadata": {},
   "source": [
    "## Basic EDA "
   ]
  },
  {
   "cell_type": "code",
   "execution_count": 8,
   "metadata": {},
   "outputs": [
    {
     "name": "stdout",
     "output_type": "stream",
     "text": [
      "<class 'pandas.core.frame.DataFrame'>\n",
      "Int64Index: 5966 entries, 1921 to 7270\n",
      "Data columns (total 11 columns):\n",
      " #   Column                     Non-Null Count  Dtype  \n",
      "---  ------                     --------------  -----  \n",
      " 0   Item_Identifier            5966 non-null   object \n",
      " 1   Item_Weight                4943 non-null   float64\n",
      " 2   Item_Fat_Content           5966 non-null   object \n",
      " 3   Item_Visibility            5966 non-null   float64\n",
      " 4   Item_Type                  5966 non-null   object \n",
      " 5   Item_MRP                   5966 non-null   float64\n",
      " 6   Outlet_Identifier          5966 non-null   object \n",
      " 7   Outlet_Establishment_Year  5966 non-null   int64  \n",
      " 8   Outlet_Size                4276 non-null   object \n",
      " 9   Outlet_Location_Type       5966 non-null   object \n",
      " 10  Outlet_Type                5966 non-null   object \n",
      "dtypes: float64(3), int64(1), object(7)\n",
      "memory usage: 559.3+ KB\n"
     ]
    }
   ],
   "source": [
    "x_train_c.info()"
   ]
  },
  {
   "cell_type": "code",
   "execution_count": 9,
   "metadata": {},
   "outputs": [
    {
     "data": {
      "text/plain": [
       "Item_Identifier                 0\n",
       "Item_Weight                  1023\n",
       "Item_Fat_Content                0\n",
       "Item_Visibility                 0\n",
       "Item_Type                       0\n",
       "Item_MRP                        0\n",
       "Outlet_Identifier               0\n",
       "Outlet_Establishment_Year       0\n",
       "Outlet_Size                  1690\n",
       "Outlet_Location_Type            0\n",
       "Outlet_Type                     0\n",
       "dtype: int64"
      ]
     },
     "execution_count": 9,
     "metadata": {},
     "output_type": "execute_result"
    }
   ],
   "source": [
    "# Checking for null values in train dataset\n",
    "x_train_c.isnull().sum()"
   ]
  },
  {
   "cell_type": "code",
   "execution_count": 10,
   "metadata": {},
   "outputs": [
    {
     "data": {
      "text/plain": [
       "Item_Identifier                0\n",
       "Item_Weight                  440\n",
       "Item_Fat_Content               0\n",
       "Item_Visibility                0\n",
       "Item_Type                      0\n",
       "Item_MRP                       0\n",
       "Outlet_Identifier              0\n",
       "Outlet_Establishment_Year      0\n",
       "Outlet_Size                  720\n",
       "Outlet_Location_Type           0\n",
       "Outlet_Type                    0\n",
       "dtype: int64"
      ]
     },
     "execution_count": 10,
     "metadata": {},
     "output_type": "execute_result"
    }
   ],
   "source": [
    "# Checking for null values in test dataset\n",
    "x_test.isnull().sum()"
   ]
  },
  {
   "cell_type": "markdown",
   "metadata": {},
   "source": [
    "Both train and test datsets have null values in the colmuns 'item weight' and 'outlet_size'."
   ]
  },
  {
   "cell_type": "markdown",
   "metadata": {},
   "source": [
    "##### separating numerical and categorical variables"
   ]
  },
  {
   "cell_type": "code",
   "execution_count": 11,
   "metadata": {},
   "outputs": [],
   "source": [
    "num_cols=x_train_c.describe().columns\n",
    "cat_cols=x_train_c.describe(include='O').columns"
   ]
  },
  {
   "cell_type": "markdown",
   "metadata": {},
   "source": [
    "##### checking basic statistics for numerical and categorical columns"
   ]
  },
  {
   "cell_type": "code",
   "execution_count": 12,
   "metadata": {},
   "outputs": [
    {
     "data": {
      "text/html": [
       "<div>\n",
       "<style scoped>\n",
       "    .dataframe tbody tr th:only-of-type {\n",
       "        vertical-align: middle;\n",
       "    }\n",
       "\n",
       "    .dataframe tbody tr th {\n",
       "        vertical-align: top;\n",
       "    }\n",
       "\n",
       "    .dataframe thead th {\n",
       "        text-align: right;\n",
       "    }\n",
       "</style>\n",
       "<table border=\"1\" class=\"dataframe\">\n",
       "  <thead>\n",
       "    <tr style=\"text-align: right;\">\n",
       "      <th></th>\n",
       "      <th>Item_Weight</th>\n",
       "      <th>Item_Visibility</th>\n",
       "      <th>Item_MRP</th>\n",
       "      <th>Outlet_Establishment_Year</th>\n",
       "    </tr>\n",
       "  </thead>\n",
       "  <tbody>\n",
       "    <tr>\n",
       "      <th>count</th>\n",
       "      <td>4943.000000</td>\n",
       "      <td>5966.000000</td>\n",
       "      <td>5966.000000</td>\n",
       "      <td>5966.000000</td>\n",
       "    </tr>\n",
       "    <tr>\n",
       "      <th>mean</th>\n",
       "      <td>12.937193</td>\n",
       "      <td>0.065821</td>\n",
       "      <td>141.814242</td>\n",
       "      <td>1997.867248</td>\n",
       "    </tr>\n",
       "    <tr>\n",
       "      <th>std</th>\n",
       "      <td>4.630433</td>\n",
       "      <td>0.051093</td>\n",
       "      <td>62.627609</td>\n",
       "      <td>8.385023</td>\n",
       "    </tr>\n",
       "    <tr>\n",
       "      <th>min</th>\n",
       "      <td>4.555000</td>\n",
       "      <td>0.000000</td>\n",
       "      <td>31.290000</td>\n",
       "      <td>1985.000000</td>\n",
       "    </tr>\n",
       "    <tr>\n",
       "      <th>25%</th>\n",
       "      <td>8.895000</td>\n",
       "      <td>0.026982</td>\n",
       "      <td>94.144250</td>\n",
       "      <td>1987.000000</td>\n",
       "    </tr>\n",
       "    <tr>\n",
       "      <th>50%</th>\n",
       "      <td>12.650000</td>\n",
       "      <td>0.053923</td>\n",
       "      <td>143.879900</td>\n",
       "      <td>1999.000000</td>\n",
       "    </tr>\n",
       "    <tr>\n",
       "      <th>75%</th>\n",
       "      <td>17.000000</td>\n",
       "      <td>0.094350</td>\n",
       "      <td>186.621400</td>\n",
       "      <td>2004.000000</td>\n",
       "    </tr>\n",
       "    <tr>\n",
       "      <th>max</th>\n",
       "      <td>21.350000</td>\n",
       "      <td>0.328391</td>\n",
       "      <td>266.888400</td>\n",
       "      <td>2009.000000</td>\n",
       "    </tr>\n",
       "  </tbody>\n",
       "</table>\n",
       "</div>"
      ],
      "text/plain": [
       "       Item_Weight  Item_Visibility     Item_MRP  Outlet_Establishment_Year\n",
       "count  4943.000000      5966.000000  5966.000000                5966.000000\n",
       "mean     12.937193         0.065821   141.814242                1997.867248\n",
       "std       4.630433         0.051093    62.627609                   8.385023\n",
       "min       4.555000         0.000000    31.290000                1985.000000\n",
       "25%       8.895000         0.026982    94.144250                1987.000000\n",
       "50%      12.650000         0.053923   143.879900                1999.000000\n",
       "75%      17.000000         0.094350   186.621400                2004.000000\n",
       "max      21.350000         0.328391   266.888400                2009.000000"
      ]
     },
     "execution_count": 12,
     "metadata": {},
     "output_type": "execute_result"
    }
   ],
   "source": [
    "x_train_c[num_cols].describe()"
   ]
  },
  {
   "cell_type": "code",
   "execution_count": 13,
   "metadata": {},
   "outputs": [
    {
     "data": {
      "text/html": [
       "<div>\n",
       "<style scoped>\n",
       "    .dataframe tbody tr th:only-of-type {\n",
       "        vertical-align: middle;\n",
       "    }\n",
       "\n",
       "    .dataframe tbody tr th {\n",
       "        vertical-align: top;\n",
       "    }\n",
       "\n",
       "    .dataframe thead th {\n",
       "        text-align: right;\n",
       "    }\n",
       "</style>\n",
       "<table border=\"1\" class=\"dataframe\">\n",
       "  <thead>\n",
       "    <tr style=\"text-align: right;\">\n",
       "      <th></th>\n",
       "      <th>Item_Identifier</th>\n",
       "      <th>Item_Fat_Content</th>\n",
       "      <th>Item_Type</th>\n",
       "      <th>Outlet_Identifier</th>\n",
       "      <th>Outlet_Size</th>\n",
       "      <th>Outlet_Location_Type</th>\n",
       "      <th>Outlet_Type</th>\n",
       "    </tr>\n",
       "  </thead>\n",
       "  <tbody>\n",
       "    <tr>\n",
       "      <th>count</th>\n",
       "      <td>5966</td>\n",
       "      <td>5966</td>\n",
       "      <td>5966</td>\n",
       "      <td>5966</td>\n",
       "      <td>4276</td>\n",
       "      <td>5966</td>\n",
       "      <td>5966</td>\n",
       "    </tr>\n",
       "    <tr>\n",
       "      <th>unique</th>\n",
       "      <td>1543</td>\n",
       "      <td>5</td>\n",
       "      <td>16</td>\n",
       "      <td>10</td>\n",
       "      <td>3</td>\n",
       "      <td>3</td>\n",
       "      <td>4</td>\n",
       "    </tr>\n",
       "    <tr>\n",
       "      <th>top</th>\n",
       "      <td>FDF52</td>\n",
       "      <td>Low Fat</td>\n",
       "      <td>Fruits and Vegetables</td>\n",
       "      <td>OUT027</td>\n",
       "      <td>Medium</td>\n",
       "      <td>Tier 3</td>\n",
       "      <td>Supermarket Type1</td>\n",
       "    </tr>\n",
       "    <tr>\n",
       "      <th>freq</th>\n",
       "      <td>9</td>\n",
       "      <td>3535</td>\n",
       "      <td>905</td>\n",
       "      <td>668</td>\n",
       "      <td>1960</td>\n",
       "      <td>2367</td>\n",
       "      <td>3893</td>\n",
       "    </tr>\n",
       "  </tbody>\n",
       "</table>\n",
       "</div>"
      ],
      "text/plain": [
       "       Item_Identifier Item_Fat_Content              Item_Type  \\\n",
       "count             5966             5966                   5966   \n",
       "unique            1543                5                     16   \n",
       "top              FDF52          Low Fat  Fruits and Vegetables   \n",
       "freq                 9             3535                    905   \n",
       "\n",
       "       Outlet_Identifier Outlet_Size Outlet_Location_Type        Outlet_Type  \n",
       "count               5966        4276                 5966               5966  \n",
       "unique                10           3                    3                  4  \n",
       "top               OUT027      Medium               Tier 3  Supermarket Type1  \n",
       "freq                 668        1960                 2367               3893  "
      ]
     },
     "execution_count": 13,
     "metadata": {},
     "output_type": "execute_result"
    }
   ],
   "source": [
    "x_train_c[cat_cols].describe()"
   ]
  },
  {
   "cell_type": "markdown",
   "metadata": {},
   "source": [
    "#### Visualizing numeric data for distributions and outliers"
   ]
  },
  {
   "cell_type": "code",
   "execution_count": 14,
   "metadata": {},
   "outputs": [
    {
     "data": {
      "image/png": "[encoded data removed]",
      "text/plain": [
       "<Figure size 864x360 with 2 Axes>"
      ]
     },
     "metadata": {
      "needs_background": "light"
     },
     "output_type": "display_data"
    },
    {
     "data": {
      "image/png": "[encoded data removed]",
      "text/plain": [
       "<Figure size 864x360 with 2 Axes>"
      ]
     },
     "metadata": {
      "needs_background": "light"
     },
     "output_type": "display_data"
    },
    {
     "data": {
      "image/png": "[encoded data removed]",
      "text/plain": [
       "<Figure size 864x360 with 2 Axes>"
      ]
     },
     "metadata": {
      "needs_background": "light"
     },
     "output_type": "display_data"
    },
    {
     "data": {
      "image/png": "[encoded data removed]",
      "text/plain": [
       "<Figure size 864x360 with 2 Axes>"
      ]
     },
     "metadata": {
      "needs_background": "light"
     },
     "output_type": "display_data"
    }
   ],
   "source": [
    "def visualize_num_cols(data, cols):\n",
    "    for i in cols: \n",
    "        fig, ax=plt.subplots(1,2, figsize=(12,5))\n",
    "        sns.histplot(data=data, x=i, ax=ax[0])\n",
    "        sns.boxplot(data=data, x=i, ax=ax[1])\n",
    "        \n",
    "visualize_num_cols(x_train_c, num_cols)"
   ]
  },
  {
   "cell_type": "markdown",
   "metadata": {},
   "source": [
    "-Item_Visibility has right skewed distribution. It means high visibility items are less in number. <br/>\n",
    "-Item_MRP looks like a multimodal distribution. It is possible as different items have different price range."
   ]
  },
  {
   "cell_type": "markdown",
   "metadata": {},
   "source": [
    "### Visualizing categorical features"
   ]
  },
  {
   "cell_type": "code",
   "execution_count": 15,
   "metadata": {},
   "outputs": [
    {
     "data": {
      "image/png": "[encoded data removed]",
      "text/plain": [
       "<Figure size 864x360 with 1 Axes>"
      ]
     },
     "metadata": {
      "needs_background": "light"
     },
     "output_type": "display_data"
    },
    {
     "data": {
      "image/png": "[encoded data removed]",
      "text/plain": [
       "<Figure size 864x360 with 1 Axes>"
      ]
     },
     "metadata": {
      "needs_background": "light"
     },
     "output_type": "display_data"
    },
    {
     "data": {
      "image/png": "[encoded data removed]",
      "text/plain": [
       "<Figure size 864x360 with 1 Axes>"
      ]
     },
     "metadata": {
      "needs_background": "light"
     },
     "output_type": "display_data"
    },
    {
     "data": {
      "image/png": "[encoded data removed]",
      "text/plain": [
       "<Figure size 864x360 with 1 Axes>"
      ]
     },
     "metadata": {
      "needs_background": "light"
     },
     "output_type": "display_data"
    },
    {
     "data": {
      "image/png": "[encoded data removed]",
      "text/plain": [
       "<Figure size 864x360 with 1 Axes>"
      ]
     },
     "metadata": {
      "needs_background": "light"
     },
     "output_type": "display_data"
    },
    {
     "data": {
      "image/png": "[encoded data removed]",
      "text/plain": [
       "<Figure size 864x360 with 1 Axes>"
      ]
     },
     "metadata": {
      "needs_background": "light"
     },
     "output_type": "display_data"
    }
   ],
   "source": [
    "def visualize_cat_cols(data, cols):\n",
    "    for i in cat_cols:\n",
    "        if i != 'Item_Identifier':\n",
    "            plt.subplots(figsize=(12,5))\n",
    "            sns.countplot(data=data, x=i)\n",
    "                \n",
    "visualize_cat_cols(x_train_c, cat_cols)"
   ]
  },
  {
   "cell_type": "markdown",
   "metadata": {},
   "source": [
    "#### Observations for categorical columns\n",
    "-Item_Fat_Content has same categories with diifferent names (For example, Low Fat, low fat, LF for low fat items) . This needs correction. Also, most of the items are with low fat content. <br\\>\n",
    "\n",
    "-Item_Type has so many categories. Needs to see if the similar categories can be clubbed together and the number of categories can be reduced. <br\\>\n",
    "\n",
    "-Most of the outlets are of medium size.Though the number of small and medium sized outlets are close. <br\\>\n",
    "\n",
    "-Most of the outlets are in Tier3 cities and least number of outlets are in Tier1 cities. Though there is not much difference in the outlets of three categories.\n",
    "\n",
    "-Most of the outlets are of Supermarket Type 1 and its number is significantly greater than other outlet types.\n"
   ]
  },
  {
   "cell_type": "markdown",
   "metadata": {},
   "source": [
    "## Data Preprocessing"
   ]
  },
  {
   "cell_type": "markdown",
   "metadata": {},
   "source": [
    "##### Step 1: Standardize Item_Fat_Content"
   ]
  },
  {
   "cell_type": "code",
   "execution_count": 16,
   "metadata": {},
   "outputs": [
    {
     "data": {
      "text/plain": [
       "Low Fat    3535\n",
       "Regular    2027\n",
       "LF          243\n",
       "low fat      82\n",
       "reg          79\n",
       "Name: Item_Fat_Content, dtype: int64"
      ]
     },
     "execution_count": 16,
     "metadata": {},
     "output_type": "execute_result"
    }
   ],
   "source": [
    "x_train_c['Item_Fat_Content'].value_counts()"
   ]
  },
  {
   "cell_type": "code",
   "execution_count": 17,
   "metadata": {},
   "outputs": [
    {
     "data": {
      "text/html": [
       "<div>\n",
       "<style scoped>\n",
       "    .dataframe tbody tr th:only-of-type {\n",
       "        vertical-align: middle;\n",
       "    }\n",
       "\n",
       "    .dataframe tbody tr th {\n",
       "        vertical-align: top;\n",
       "    }\n",
       "\n",
       "    .dataframe thead th {\n",
       "        text-align: right;\n",
       "    }\n",
       "</style>\n",
       "<table border=\"1\" class=\"dataframe\">\n",
       "  <thead>\n",
       "    <tr style=\"text-align: right;\">\n",
       "      <th></th>\n",
       "      <th>Item_Identifier</th>\n",
       "      <th>Item_Weight</th>\n",
       "      <th>Item_Fat_Content</th>\n",
       "      <th>Item_Visibility</th>\n",
       "      <th>Item_Type</th>\n",
       "      <th>Item_MRP</th>\n",
       "      <th>Outlet_Identifier</th>\n",
       "      <th>Outlet_Establishment_Year</th>\n",
       "      <th>Outlet_Size</th>\n",
       "      <th>Outlet_Location_Type</th>\n",
       "      <th>Outlet_Type</th>\n",
       "    </tr>\n",
       "  </thead>\n",
       "  <tbody>\n",
       "    <tr>\n",
       "      <th>1921</th>\n",
       "      <td>FDN08</td>\n",
       "      <td>7.720</td>\n",
       "      <td>Regular</td>\n",
       "      <td>0.147904</td>\n",
       "      <td>Fruits and Vegetables</td>\n",
       "      <td>116.6466</td>\n",
       "      <td>OUT010</td>\n",
       "      <td>1998</td>\n",
       "      <td>NaN</td>\n",
       "      <td>Tier 3</td>\n",
       "      <td>Grocery Store</td>\n",
       "    </tr>\n",
       "    <tr>\n",
       "      <th>655</th>\n",
       "      <td>NCJ42</td>\n",
       "      <td>19.750</td>\n",
       "      <td>Low Fat</td>\n",
       "      <td>0.014301</td>\n",
       "      <td>Household</td>\n",
       "      <td>103.0332</td>\n",
       "      <td>OUT046</td>\n",
       "      <td>1997</td>\n",
       "      <td>Small</td>\n",
       "      <td>Tier 1</td>\n",
       "      <td>Supermarket Type1</td>\n",
       "    </tr>\n",
       "    <tr>\n",
       "      <th>2229</th>\n",
       "      <td>FDY47</td>\n",
       "      <td>NaN</td>\n",
       "      <td>Regular</td>\n",
       "      <td>0.054221</td>\n",
       "      <td>Breads</td>\n",
       "      <td>129.1310</td>\n",
       "      <td>OUT027</td>\n",
       "      <td>1985</td>\n",
       "      <td>Medium</td>\n",
       "      <td>Tier 3</td>\n",
       "      <td>Supermarket Type3</td>\n",
       "    </tr>\n",
       "    <tr>\n",
       "      <th>2537</th>\n",
       "      <td>FDN45</td>\n",
       "      <td>19.350</td>\n",
       "      <td>Low Fat</td>\n",
       "      <td>0.118342</td>\n",
       "      <td>Snack Foods</td>\n",
       "      <td>222.6088</td>\n",
       "      <td>OUT045</td>\n",
       "      <td>2002</td>\n",
       "      <td>NaN</td>\n",
       "      <td>Tier 2</td>\n",
       "      <td>Supermarket Type1</td>\n",
       "    </tr>\n",
       "    <tr>\n",
       "      <th>3528</th>\n",
       "      <td>FDY16</td>\n",
       "      <td>18.350</td>\n",
       "      <td>Regular</td>\n",
       "      <td>0.092150</td>\n",
       "      <td>Frozen Foods</td>\n",
       "      <td>184.8266</td>\n",
       "      <td>OUT013</td>\n",
       "      <td>1987</td>\n",
       "      <td>High</td>\n",
       "      <td>Tier 3</td>\n",
       "      <td>Supermarket Type1</td>\n",
       "    </tr>\n",
       "    <tr>\n",
       "      <th>...</th>\n",
       "      <td>...</td>\n",
       "      <td>...</td>\n",
       "      <td>...</td>\n",
       "      <td>...</td>\n",
       "      <td>...</td>\n",
       "      <td>...</td>\n",
       "      <td>...</td>\n",
       "      <td>...</td>\n",
       "      <td>...</td>\n",
       "      <td>...</td>\n",
       "      <td>...</td>\n",
       "    </tr>\n",
       "    <tr>\n",
       "      <th>5734</th>\n",
       "      <td>FDY08</td>\n",
       "      <td>9.395</td>\n",
       "      <td>Regular</td>\n",
       "      <td>0.286345</td>\n",
       "      <td>Fruits and Vegetables</td>\n",
       "      <td>139.1838</td>\n",
       "      <td>OUT010</td>\n",
       "      <td>1998</td>\n",
       "      <td>NaN</td>\n",
       "      <td>Tier 3</td>\n",
       "      <td>Grocery Store</td>\n",
       "    </tr>\n",
       "    <tr>\n",
       "      <th>5191</th>\n",
       "      <td>FDC41</td>\n",
       "      <td>15.600</td>\n",
       "      <td>Low Fat</td>\n",
       "      <td>0.117575</td>\n",
       "      <td>Frozen Foods</td>\n",
       "      <td>75.6670</td>\n",
       "      <td>OUT017</td>\n",
       "      <td>2007</td>\n",
       "      <td>NaN</td>\n",
       "      <td>Tier 2</td>\n",
       "      <td>Supermarket Type1</td>\n",
       "    </tr>\n",
       "    <tr>\n",
       "      <th>5390</th>\n",
       "      <td>NCQ53</td>\n",
       "      <td>17.600</td>\n",
       "      <td>Low Fat</td>\n",
       "      <td>0.018944</td>\n",
       "      <td>Health and Hygiene</td>\n",
       "      <td>237.3590</td>\n",
       "      <td>OUT045</td>\n",
       "      <td>2002</td>\n",
       "      <td>NaN</td>\n",
       "      <td>Tier 2</td>\n",
       "      <td>Supermarket Type1</td>\n",
       "    </tr>\n",
       "    <tr>\n",
       "      <th>860</th>\n",
       "      <td>FDL46</td>\n",
       "      <td>20.350</td>\n",
       "      <td>Low Fat</td>\n",
       "      <td>0.054363</td>\n",
       "      <td>Snack Foods</td>\n",
       "      <td>117.9466</td>\n",
       "      <td>OUT017</td>\n",
       "      <td>2007</td>\n",
       "      <td>NaN</td>\n",
       "      <td>Tier 2</td>\n",
       "      <td>Supermarket Type1</td>\n",
       "    </tr>\n",
       "    <tr>\n",
       "      <th>7270</th>\n",
       "      <td>NCN30</td>\n",
       "      <td>16.350</td>\n",
       "      <td>Low Fat</td>\n",
       "      <td>0.016993</td>\n",
       "      <td>Household</td>\n",
       "      <td>95.7410</td>\n",
       "      <td>OUT046</td>\n",
       "      <td>1997</td>\n",
       "      <td>Small</td>\n",
       "      <td>Tier 1</td>\n",
       "      <td>Supermarket Type1</td>\n",
       "    </tr>\n",
       "  </tbody>\n",
       "</table>\n",
       "<p>5966 rows × 11 columns</p>\n",
       "</div>"
      ],
      "text/plain": [
       "     Item_Identifier  Item_Weight Item_Fat_Content  Item_Visibility  \\\n",
       "1921           FDN08        7.720          Regular         0.147904   \n",
       "655            NCJ42       19.750          Low Fat         0.014301   \n",
       "2229           FDY47          NaN          Regular         0.054221   \n",
       "2537           FDN45       19.350          Low Fat         0.118342   \n",
       "3528           FDY16       18.350          Regular         0.092150   \n",
       "...              ...          ...              ...              ...   \n",
       "5734           FDY08        9.395          Regular         0.286345   \n",
       "5191           FDC41       15.600          Low Fat         0.117575   \n",
       "5390           NCQ53       17.600          Low Fat         0.018944   \n",
       "860            FDL46       20.350          Low Fat         0.054363   \n",
       "7270           NCN30       16.350          Low Fat         0.016993   \n",
       "\n",
       "                  Item_Type  Item_MRP Outlet_Identifier  \\\n",
       "1921  Fruits and Vegetables  116.6466            OUT010   \n",
       "655               Household  103.0332            OUT046   \n",
       "2229                 Breads  129.1310            OUT027   \n",
       "2537            Snack Foods  222.6088            OUT045   \n",
       "3528           Frozen Foods  184.8266            OUT013   \n",
       "...                     ...       ...               ...   \n",
       "5734  Fruits and Vegetables  139.1838            OUT010   \n",
       "5191           Frozen Foods   75.6670            OUT017   \n",
       "5390     Health and Hygiene  237.3590            OUT045   \n",
       "860             Snack Foods  117.9466            OUT017   \n",
       "7270              Household   95.7410            OUT046   \n",
       "\n",
       "      Outlet_Establishment_Year Outlet_Size Outlet_Location_Type  \\\n",
       "1921                       1998         NaN               Tier 3   \n",
       "655                        1997       Small               Tier 1   \n",
       "2229                       1985      Medium               Tier 3   \n",
       "2537                       2002         NaN               Tier 2   \n",
       "3528                       1987        High               Tier 3   \n",
       "...                         ...         ...                  ...   \n",
       "5734                       1998         NaN               Tier 3   \n",
       "5191                       2007         NaN               Tier 2   \n",
       "5390                       2002         NaN               Tier 2   \n",
       "860                        2007         NaN               Tier 2   \n",
       "7270                       1997       Small               Tier 1   \n",
       "\n",
       "            Outlet_Type  \n",
       "1921      Grocery Store  \n",
       "655   Supermarket Type1  \n",
       "2229  Supermarket Type3  \n",
       "2537  Supermarket Type1  \n",
       "3528  Supermarket Type1  \n",
       "...                 ...  \n",
       "5734      Grocery Store  \n",
       "5191  Supermarket Type1  \n",
       "5390  Supermarket Type1  \n",
       "860   Supermarket Type1  \n",
       "7270  Supermarket Type1  \n",
       "\n",
       "[5966 rows x 11 columns]"
      ]
     },
     "execution_count": 17,
     "metadata": {},
     "output_type": "execute_result"
    }
   ],
   "source": [
    "def standardize_item_fat_content(df):\n",
    "    df['Item_Fat_Content'] = df['Item_Fat_Content'].replace({'LF':'Low Fat', 'low fat':'Low Fat', 'reg':'Regular'})\n",
    "    return df\n",
    "\n",
    "standardize_item_fat_content(x_train_c)"
   ]
  },
  {
   "cell_type": "code",
   "execution_count": 18,
   "metadata": {},
   "outputs": [
    {
     "data": {
      "text/plain": [
       "Low Fat    3860\n",
       "Regular    2106\n",
       "Name: Item_Fat_Content, dtype: int64"
      ]
     },
     "execution_count": 18,
     "metadata": {},
     "output_type": "execute_result"
    }
   ],
   "source": [
    "x_train_c['Item_Fat_Content'].value_counts()"
   ]
  },
  {
   "cell_type": "markdown",
   "metadata": {},
   "source": [
    "##### Step 2: Create high level item types to reduce the number of categories. Use mapping between Item_Identifier and Item_Type"
   ]
  },
  {
   "cell_type": "code",
   "execution_count": 19,
   "metadata": {},
   "outputs": [
    {
     "data": {
      "text/plain": [
       "array(['Food', 'Non-consumables', 'Drink'], dtype=object)"
      ]
     },
     "execution_count": 19,
     "metadata": {},
     "output_type": "execute_result"
    }
   ],
   "source": [
    "def rename_item_types(df):\n",
    "    df['Item_Type']=df['Item_Identifier'].str[:2]\n",
    "    df['Item_Type']=df['Item_Type'].map({'FD':'Food','NC':'Non-consumables','DR':'Drink'})\n",
    "    return df\n",
    "\n",
    "x_train_c = rename_item_types(x_train_c)\n",
    "x_train_c['Item_Type'].unique()"
   ]
  },
  {
   "cell_type": "markdown",
   "metadata": {},
   "source": [
    "##### Step 3: Correct Item_Fat_Content"
   ]
  },
  {
   "cell_type": "code",
   "execution_count": 20,
   "metadata": {},
   "outputs": [
    {
     "data": {
      "text/plain": [
       "Item_Type        Item_Fat_Content\n",
       "Drink            Low Fat              517\n",
       "                 Regular               43\n",
       "Food             Low Fat             2206\n",
       "                 Regular             2063\n",
       "Non-consumables  Low Fat             1137\n",
       "dtype: int64"
      ]
     },
     "execution_count": 20,
     "metadata": {},
     "output_type": "execute_result"
    }
   ],
   "source": [
    "x_train_c.groupby(by=['Item_Type','Item_Fat_Content']).size()"
   ]
  },
  {
   "cell_type": "markdown",
   "metadata": {},
   "source": [
    "The above table is showing that non-consumable items have low fat content which is not possible. This inconsistency needs to be corrected."
   ]
  },
  {
   "cell_type": "code",
   "execution_count": 21,
   "metadata": {},
   "outputs": [
    {
     "data": {
      "text/html": [
       "<div>\n",
       "<style scoped>\n",
       "    .dataframe tbody tr th:only-of-type {\n",
       "        vertical-align: middle;\n",
       "    }\n",
       "\n",
       "    .dataframe tbody tr th {\n",
       "        vertical-align: top;\n",
       "    }\n",
       "\n",
       "    .dataframe thead th {\n",
       "        text-align: right;\n",
       "    }\n",
       "</style>\n",
       "<table border=\"1\" class=\"dataframe\">\n",
       "  <thead>\n",
       "    <tr style=\"text-align: right;\">\n",
       "      <th></th>\n",
       "      <th>Item_Identifier</th>\n",
       "      <th>Item_Weight</th>\n",
       "      <th>Item_Fat_Content</th>\n",
       "      <th>Item_Visibility</th>\n",
       "      <th>Item_Type</th>\n",
       "      <th>Item_MRP</th>\n",
       "      <th>Outlet_Identifier</th>\n",
       "      <th>Outlet_Establishment_Year</th>\n",
       "      <th>Outlet_Size</th>\n",
       "      <th>Outlet_Location_Type</th>\n",
       "      <th>Outlet_Type</th>\n",
       "    </tr>\n",
       "  </thead>\n",
       "  <tbody>\n",
       "    <tr>\n",
       "      <th>1921</th>\n",
       "      <td>FDN08</td>\n",
       "      <td>7.720</td>\n",
       "      <td>Regular</td>\n",
       "      <td>0.147904</td>\n",
       "      <td>Food</td>\n",
       "      <td>116.6466</td>\n",
       "      <td>OUT010</td>\n",
       "      <td>1998</td>\n",
       "      <td>NaN</td>\n",
       "      <td>Tier 3</td>\n",
       "      <td>Grocery Store</td>\n",
       "    </tr>\n",
       "    <tr>\n",
       "      <th>655</th>\n",
       "      <td>NCJ42</td>\n",
       "      <td>19.750</td>\n",
       "      <td>Non-Edible</td>\n",
       "      <td>0.014301</td>\n",
       "      <td>Non-consumables</td>\n",
       "      <td>103.0332</td>\n",
       "      <td>OUT046</td>\n",
       "      <td>1997</td>\n",
       "      <td>Small</td>\n",
       "      <td>Tier 1</td>\n",
       "      <td>Supermarket Type1</td>\n",
       "    </tr>\n",
       "    <tr>\n",
       "      <th>2229</th>\n",
       "      <td>FDY47</td>\n",
       "      <td>NaN</td>\n",
       "      <td>Regular</td>\n",
       "      <td>0.054221</td>\n",
       "      <td>Food</td>\n",
       "      <td>129.1310</td>\n",
       "      <td>OUT027</td>\n",
       "      <td>1985</td>\n",
       "      <td>Medium</td>\n",
       "      <td>Tier 3</td>\n",
       "      <td>Supermarket Type3</td>\n",
       "    </tr>\n",
       "    <tr>\n",
       "      <th>2537</th>\n",
       "      <td>FDN45</td>\n",
       "      <td>19.350</td>\n",
       "      <td>Low Fat</td>\n",
       "      <td>0.118342</td>\n",
       "      <td>Food</td>\n",
       "      <td>222.6088</td>\n",
       "      <td>OUT045</td>\n",
       "      <td>2002</td>\n",
       "      <td>NaN</td>\n",
       "      <td>Tier 2</td>\n",
       "      <td>Supermarket Type1</td>\n",
       "    </tr>\n",
       "    <tr>\n",
       "      <th>3528</th>\n",
       "      <td>FDY16</td>\n",
       "      <td>18.350</td>\n",
       "      <td>Regular</td>\n",
       "      <td>0.092150</td>\n",
       "      <td>Food</td>\n",
       "      <td>184.8266</td>\n",
       "      <td>OUT013</td>\n",
       "      <td>1987</td>\n",
       "      <td>High</td>\n",
       "      <td>Tier 3</td>\n",
       "      <td>Supermarket Type1</td>\n",
       "    </tr>\n",
       "    <tr>\n",
       "      <th>...</th>\n",
       "      <td>...</td>\n",
       "      <td>...</td>\n",
       "      <td>...</td>\n",
       "      <td>...</td>\n",
       "      <td>...</td>\n",
       "      <td>...</td>\n",
       "      <td>...</td>\n",
       "      <td>...</td>\n",
       "      <td>...</td>\n",
       "      <td>...</td>\n",
       "      <td>...</td>\n",
       "    </tr>\n",
       "    <tr>\n",
       "      <th>5734</th>\n",
       "      <td>FDY08</td>\n",
       "      <td>9.395</td>\n",
       "      <td>Regular</td>\n",
       "      <td>0.286345</td>\n",
       "      <td>Food</td>\n",
       "      <td>139.1838</td>\n",
       "      <td>OUT010</td>\n",
       "      <td>1998</td>\n",
       "      <td>NaN</td>\n",
       "      <td>Tier 3</td>\n",
       "      <td>Grocery Store</td>\n",
       "    </tr>\n",
       "    <tr>\n",
       "      <th>5191</th>\n",
       "      <td>FDC41</td>\n",
       "      <td>15.600</td>\n",
       "      <td>Low Fat</td>\n",
       "      <td>0.117575</td>\n",
       "      <td>Food</td>\n",
       "      <td>75.6670</td>\n",
       "      <td>OUT017</td>\n",
       "      <td>2007</td>\n",
       "      <td>NaN</td>\n",
       "      <td>Tier 2</td>\n",
       "      <td>Supermarket Type1</td>\n",
       "    </tr>\n",
       "    <tr>\n",
       "      <th>5390</th>\n",
       "      <td>NCQ53</td>\n",
       "      <td>17.600</td>\n",
       "      <td>Non-Edible</td>\n",
       "      <td>0.018944</td>\n",
       "      <td>Non-consumables</td>\n",
       "      <td>237.3590</td>\n",
       "      <td>OUT045</td>\n",
       "      <td>2002</td>\n",
       "      <td>NaN</td>\n",
       "      <td>Tier 2</td>\n",
       "      <td>Supermarket Type1</td>\n",
       "    </tr>\n",
       "    <tr>\n",
       "      <th>860</th>\n",
       "      <td>FDL46</td>\n",
       "      <td>20.350</td>\n",
       "      <td>Low Fat</td>\n",
       "      <td>0.054363</td>\n",
       "      <td>Food</td>\n",
       "      <td>117.9466</td>\n",
       "      <td>OUT017</td>\n",
       "      <td>2007</td>\n",
       "      <td>NaN</td>\n",
       "      <td>Tier 2</td>\n",
       "      <td>Supermarket Type1</td>\n",
       "    </tr>\n",
       "    <tr>\n",
       "      <th>7270</th>\n",
       "      <td>NCN30</td>\n",
       "      <td>16.350</td>\n",
       "      <td>Non-Edible</td>\n",
       "      <td>0.016993</td>\n",
       "      <td>Non-consumables</td>\n",
       "      <td>95.7410</td>\n",
       "      <td>OUT046</td>\n",
       "      <td>1997</td>\n",
       "      <td>Small</td>\n",
       "      <td>Tier 1</td>\n",
       "      <td>Supermarket Type1</td>\n",
       "    </tr>\n",
       "  </tbody>\n",
       "</table>\n",
       "<p>5966 rows × 11 columns</p>\n",
       "</div>"
      ],
      "text/plain": [
       "     Item_Identifier  Item_Weight Item_Fat_Content  Item_Visibility  \\\n",
       "1921           FDN08        7.720          Regular         0.147904   \n",
       "655            NCJ42       19.750       Non-Edible         0.014301   \n",
       "2229           FDY47          NaN          Regular         0.054221   \n",
       "2537           FDN45       19.350          Low Fat         0.118342   \n",
       "3528           FDY16       18.350          Regular         0.092150   \n",
       "...              ...          ...              ...              ...   \n",
       "5734           FDY08        9.395          Regular         0.286345   \n",
       "5191           FDC41       15.600          Low Fat         0.117575   \n",
       "5390           NCQ53       17.600       Non-Edible         0.018944   \n",
       "860            FDL46       20.350          Low Fat         0.054363   \n",
       "7270           NCN30       16.350       Non-Edible         0.016993   \n",
       "\n",
       "            Item_Type  Item_MRP Outlet_Identifier  Outlet_Establishment_Year  \\\n",
       "1921             Food  116.6466            OUT010                       1998   \n",
       "655   Non-consumables  103.0332            OUT046                       1997   \n",
       "2229             Food  129.1310            OUT027                       1985   \n",
       "2537             Food  222.6088            OUT045                       2002   \n",
       "3528             Food  184.8266            OUT013                       1987   \n",
       "...               ...       ...               ...                        ...   \n",
       "5734             Food  139.1838            OUT010                       1998   \n",
       "5191             Food   75.6670            OUT017                       2007   \n",
       "5390  Non-consumables  237.3590            OUT045                       2002   \n",
       "860              Food  117.9466            OUT017                       2007   \n",
       "7270  Non-consumables   95.7410            OUT046                       1997   \n",
       "\n",
       "     Outlet_Size Outlet_Location_Type        Outlet_Type  \n",
       "1921         NaN               Tier 3      Grocery Store  \n",
       "655        Small               Tier 1  Supermarket Type1  \n",
       "2229      Medium               Tier 3  Supermarket Type3  \n",
       "2537         NaN               Tier 2  Supermarket Type1  \n",
       "3528        High               Tier 3  Supermarket Type1  \n",
       "...          ...                  ...                ...  \n",
       "5734         NaN               Tier 3      Grocery Store  \n",
       "5191         NaN               Tier 2  Supermarket Type1  \n",
       "5390         NaN               Tier 2  Supermarket Type1  \n",
       "860          NaN               Tier 2  Supermarket Type1  \n",
       "7270       Small               Tier 1  Supermarket Type1  \n",
       "\n",
       "[5966 rows x 11 columns]"
      ]
     },
     "execution_count": 21,
     "metadata": {},
     "output_type": "execute_result"
    }
   ],
   "source": [
    "def rectify_fat_content(df):\n",
    "    df.loc[df['Item_Type']=='Non-consumables', 'Item_Fat_Content'] = 'Non-Edible'\n",
    "    return df\n",
    "\n",
    "rectify_fat_content(x_train_c)"
   ]
  },
  {
   "cell_type": "code",
   "execution_count": 22,
   "metadata": {},
   "outputs": [
    {
     "data": {
      "text/plain": [
       "Item_Type        Item_Fat_Content\n",
       "Drink            Low Fat              517\n",
       "                 Regular               43\n",
       "Food             Low Fat             2206\n",
       "                 Regular             2063\n",
       "Non-consumables  Non-Edible          1137\n",
       "dtype: int64"
      ]
     },
     "execution_count": 22,
     "metadata": {},
     "output_type": "execute_result"
    }
   ],
   "source": [
    "x_train_c.groupby(by=['Item_Type','Item_Fat_Content']).size()"
   ]
  },
  {
   "cell_type": "markdown",
   "metadata": {},
   "source": [
    "##### Step 4: Imputing missing values for Item_Weight using Item_Identifier and Item_Type"
   ]
  },
  {
   "cell_type": "code",
   "execution_count": 23,
   "metadata": {},
   "outputs": [
    {
     "data": {
      "text/plain": [
       "Item_Identifier                 0\n",
       "Item_Weight                     0\n",
       "Item_Fat_Content                0\n",
       "Item_Visibility                 0\n",
       "Item_Type                       0\n",
       "Item_MRP                        0\n",
       "Outlet_Identifier               0\n",
       "Outlet_Establishment_Year       0\n",
       "Outlet_Size                  1690\n",
       "Outlet_Location_Type            0\n",
       "Outlet_Type                     0\n",
       "dtype: int64"
      ]
     },
     "execution_count": 23,
     "metadata": {},
     "output_type": "execute_result"
    }
   ],
   "source": [
    "#logic1-If item id is available, create mapping between item id and item weight.\n",
    "item_id_weight=x_train_c.pivot_table(index='Item_Identifier', values=['Item_Weight']).reset_index()\n",
    "item_id_weight\n",
    "item_id_weight_mapping=dict(zip(item_id_weight['Item_Identifier'], item_id_weight['Item_Weight']))\n",
    "item_id_weight_mapping\n",
    "\n",
    "#logic2-if item id is not available(completely new item), create mapping betwween item type and item weight.\n",
    "#use median value of item weight.\n",
    "item_type_weight=x_train_c.pivot_table(index='Item_Type', values=['Item_Weight'], aggfunc='median').reset_index()\n",
    "item_type_weight\n",
    "item_type_weight_mapping=dict(zip(item_type_weight['Item_Type'], item_type_weight['Item_Weight']))\n",
    "item_type_weight_mapping\n",
    "\n",
    "def impute_item_weight(df):\n",
    "    # Impute using logic1\n",
    "    df['Item_Weight']= df['Item_Weight'].fillna(df['Item_Identifier'].map(item_id_weight_mapping))\n",
    " \n",
    "    # Impute using logic2\n",
    "    df['Item_Weight']= df['Item_Weight'].fillna(df['Item_Type'].map(item_type_weight_mapping))\n",
    "     \n",
    "    return df\n",
    "\n",
    "impute_item_weight(x_train_c)\n",
    "\n",
    "x_train_c.isnull().sum()"
   ]
  },
  {
   "cell_type": "markdown",
   "metadata": {},
   "source": [
    "##### Step 5: Imputing missing values for Outlet_Size using Outlet_Type"
   ]
  },
  {
   "cell_type": "code",
   "execution_count": 24,
   "metadata": {},
   "outputs": [
    {
     "data": {
      "text/plain": [
       "['Outlet_Identifier',\n",
       " 'Outlet_Establishment_Year',\n",
       " 'Outlet_Size',\n",
       " 'Outlet_Location_Type',\n",
       " 'Outlet_Type']"
      ]
     },
     "execution_count": 24,
     "metadata": {},
     "output_type": "execute_result"
    }
   ],
   "source": [
    "l=[]\n",
    "for i in x_train_c.columns:\n",
    "    if 'Outlet' in i:\n",
    "        l.append(i)\n",
    "        \n",
    "l"
   ]
  },
  {
   "cell_type": "code",
   "execution_count": 25,
   "metadata": {},
   "outputs": [
    {
     "data": {
      "text/plain": [
       "Item_Identifier              0\n",
       "Item_Weight                  0\n",
       "Item_Fat_Content             0\n",
       "Item_Visibility              0\n",
       "Item_Type                    0\n",
       "Item_MRP                     0\n",
       "Outlet_Identifier            0\n",
       "Outlet_Establishment_Year    0\n",
       "Outlet_Size                  0\n",
       "Outlet_Location_Type         0\n",
       "Outlet_Type                  0\n",
       "dtype: int64"
      ]
     },
     "execution_count": 25,
     "metadata": {},
     "output_type": "execute_result"
    }
   ],
   "source": [
    "#mode[0] is used to select first mode value in case there are multiple mode values\n",
    "outlet_type_size= x_train.pivot_table(index='Outlet_Type',values='Outlet_Size', aggfunc=(lambda x: mode(x).mode[0])).reset_index()\n",
    "\n",
    "outlet_type_size_mapping=dict(zip(outlet_type_size['Outlet_Type'],outlet_type_size['Outlet_Size']))\n",
    "outlet_type_size_mapping\n",
    "\n",
    "def impute_outlet_size(df):\n",
    "    df['Outlet_Size']= df['Outlet_Size'].fillna(df['Outlet_Type'].map(outlet_type_size_mapping))\n",
    "    return df\n",
    "\n",
    "impute_outlet_size(x_train_c)\n",
    "x_train_c.isnull().sum()"
   ]
  },
  {
   "cell_type": "code",
   "execution_count": 26,
   "metadata": {},
   "outputs": [],
   "source": [
    "def data_preprocessing(df):\n",
    "    \n",
    "    #step 1: Remove inconsistencies from item fat content labels\n",
    "    df = standardize_item_fat_content(df)\n",
    "    \n",
    "    #step 2: Create high level item types to reduce the number of categories\n",
    "    df= rename_item_types(df)\n",
    "    \n",
    "    #step 3: correct item fat content for non-consumable items\n",
    "    df = rectify_fat_content(df)\n",
    "    \n",
    "    #step 4: impute missing values for item_weight\n",
    "    df= impute_item_weight(df)\n",
    "    \n",
    "    #step 5: impute missing values for outlet_size\n",
    "    df=impute_outlet_size(df)\n",
    "    \n",
    "    #step 6: handling categorical data\n",
    "    #df= handle_categorical_data(df)\n",
    "    \n",
    "    return df"
   ]
  },
  {
   "cell_type": "code",
   "execution_count": 27,
   "metadata": {},
   "outputs": [],
   "source": [
    "x_train=data_preprocessing(x_train)\n",
    "x_test=data_preprocessing(x_test)"
   ]
  },
  {
   "cell_type": "code",
   "execution_count": 28,
   "metadata": {},
   "outputs": [
    {
     "data": {
      "text/plain": [
       "Item_Identifier              0\n",
       "Item_Weight                  0\n",
       "Item_Fat_Content             0\n",
       "Item_Visibility              0\n",
       "Item_Type                    0\n",
       "Item_MRP                     0\n",
       "Outlet_Identifier            0\n",
       "Outlet_Establishment_Year    0\n",
       "Outlet_Size                  0\n",
       "Outlet_Location_Type         0\n",
       "Outlet_Type                  0\n",
       "dtype: int64"
      ]
     },
     "execution_count": 28,
     "metadata": {},
     "output_type": "execute_result"
    }
   ],
   "source": [
    "x_test.isnull().sum()"
   ]
  },
  {
   "cell_type": "code",
   "execution_count": 29,
   "metadata": {},
   "outputs": [
    {
     "data": {
      "text/plain": [
       "Item_Identifier              0\n",
       "Item_Weight                  0\n",
       "Item_Fat_Content             0\n",
       "Item_Visibility              0\n",
       "Item_Type                    0\n",
       "Item_MRP                     0\n",
       "Outlet_Identifier            0\n",
       "Outlet_Establishment_Year    0\n",
       "Outlet_Size                  0\n",
       "Outlet_Location_Type         0\n",
       "Outlet_Type                  0\n",
       "dtype: int64"
      ]
     },
     "execution_count": 29,
     "metadata": {},
     "output_type": "execute_result"
    }
   ],
   "source": [
    "x_train.isnull().sum()"
   ]
  },
  {
   "cell_type": "markdown",
   "metadata": {},
   "source": [
    "##### handling categorical data in train and test sets"
   ]
  },
  {
   "cell_type": "code",
   "execution_count": 30,
   "metadata": {},
   "outputs": [],
   "source": [
    "#onehotencoding is applied on all the categorical features(except item-identifier) to create a baseline model.\n",
    "#separate numeric and categorical data\n",
    "#apply ohe on categorical data\n",
    "#concatenate numeric data with the transformed categorical data and the data is ready for modelling\n",
    "#apply same ohe on the test data"
   ]
  },
  {
   "cell_type": "code",
   "execution_count": 31,
   "metadata": {},
   "outputs": [],
   "source": [
    "x_train= x_train.drop(['Item_Identifier'], axis=1)\n",
    "cat_cols=x_train.describe(include='O').columns"
   ]
  },
  {
   "cell_type": "code",
   "execution_count": 32,
   "metadata": {},
   "outputs": [
    {
     "data": {
      "text/html": [
       "<style>#sk-container-id-1 {color: black;}#sk-container-id-1 pre{padding: 0;}#sk-container-id-1 div.sk-toggleable {background-color: white;}#sk-container-id-1 label.sk-toggleable__label {cursor: pointer;display: block;width: 100%;margin-bottom: 0;padding: 0.3em;box-sizing: border-box;text-align: center;}#sk-container-id-1 label.sk-toggleable__label-arrow:before {content: \"▸\";float: left;margin-right: 0.25em;color: #696969;}#sk-container-id-1 label.sk-toggleable__label-arrow:hover:before {color: black;}#sk-container-id-1 div.sk-estimator:hover label.sk-toggleable__label-arrow:before {color: black;}#sk-container-id-1 div.sk-toggleable__content {max-height: 0;max-width: 0;overflow: hidden;text-align: left;background-color: #f0f8ff;}#sk-container-id-1 div.sk-toggleable__content pre {margin: 0.2em;color: black;border-radius: 0.25em;background-color: #f0f8ff;}#sk-container-id-1 input.sk-toggleable__control:checked~div.sk-toggleable__content {max-height: 200px;max-width: 100%;overflow: auto;}#sk-container-id-1 input.sk-toggleable__control:checked~label.sk-toggleable__label-arrow:before {content: \"▾\";}#sk-container-id-1 div.sk-estimator input.sk-toggleable__control:checked~label.sk-toggleable__label {background-color: #d4ebff;}#sk-container-id-1 div.sk-label input.sk-toggleable__control:checked~label.sk-toggleable__label {background-color: #d4ebff;}#sk-container-id-1 input.sk-hidden--visually {border: 0;clip: rect(1px 1px 1px 1px);clip: rect(1px, 1px, 1px, 1px);height: 1px;margin: -1px;overflow: hidden;padding: 0;position: absolute;width: 1px;}#sk-container-id-1 div.sk-estimator {font-family: monospace;background-color: #f0f8ff;border: 1px dotted black;border-radius: 0.25em;box-sizing: border-box;margin-bottom: 0.5em;}#sk-container-id-1 div.sk-estimator:hover {background-color: #d4ebff;}#sk-container-id-1 div.sk-parallel-item::after {content: \"\";width: 100%;border-bottom: 1px solid gray;flex-grow: 1;}#sk-container-id-1 div.sk-label:hover label.sk-toggleable__label {background-color: #d4ebff;}#sk-container-id-1 div.sk-serial::before {content: \"\";position: absolute;border-left: 1px solid gray;box-sizing: border-box;top: 0;bottom: 0;left: 50%;z-index: 0;}#sk-container-id-1 div.sk-serial {display: flex;flex-direction: column;align-items: center;background-color: white;padding-right: 0.2em;padding-left: 0.2em;position: relative;}#sk-container-id-1 div.sk-item {position: relative;z-index: 1;}#sk-container-id-1 div.sk-parallel {display: flex;align-items: stretch;justify-content: center;background-color: white;position: relative;}#sk-container-id-1 div.sk-item::before, #sk-container-id-1 div.sk-parallel-item::before {content: \"\";position: absolute;border-left: 1px solid gray;box-sizing: border-box;top: 0;bottom: 0;left: 50%;z-index: -1;}#sk-container-id-1 div.sk-parallel-item {display: flex;flex-direction: column;z-index: 1;position: relative;background-color: white;}#sk-container-id-1 div.sk-parallel-item:first-child::after {align-self: flex-end;width: 50%;}#sk-container-id-1 div.sk-parallel-item:last-child::after {align-self: flex-start;width: 50%;}#sk-container-id-1 div.sk-parallel-item:only-child::after {width: 0;}#sk-container-id-1 div.sk-dashed-wrapped {border: 1px dashed gray;margin: 0 0.4em 0.5em 0.4em;box-sizing: border-box;padding-bottom: 0.4em;background-color: white;}#sk-container-id-1 div.sk-label label {font-family: monospace;font-weight: bold;display: inline-block;line-height: 1.2em;}#sk-container-id-1 div.sk-label-container {text-align: center;}#sk-container-id-1 div.sk-container {/* jupyter's `normalize.less` sets `[hidden] { display: none; }` but bootstrap.min.css set `[hidden] { display: none !important; }` so we also need the `!important` here to be able to override the default hidden behavior on the sphinx rendered scikit-learn.org. See: https://github.com/scikit-learn/scikit-learn/issues/21755 */display: inline-block !important;position: relative;}#sk-container-id-1 div.sk-text-repr-fallback {display: none;}</style><div id=\"sk-container-id-1\" class=\"sk-top-container\"><div class=\"sk-text-repr-fallback\"><pre>OneHotEncoder(handle_unknown=&#x27;ignore&#x27;)</pre><b>In a Jupyter environment, please rerun this cell to show the HTML representation or trust the notebook. <br />On GitHub, the HTML representation is unable to render, please try loading this page with nbviewer.org.</b></div><div class=\"sk-container\" hidden><div class=\"sk-item\"><div class=\"sk-estimator sk-toggleable\"><input class=\"sk-toggleable__control sk-hidden--visually\" id=\"sk-estimator-id-1\" type=\"checkbox\" checked><label for=\"sk-estimator-id-1\" class=\"sk-toggleable__label sk-toggleable__label-arrow\">OneHotEncoder</label><div class=\"sk-toggleable__content\"><pre>OneHotEncoder(handle_unknown=&#x27;ignore&#x27;)</pre></div></div></div></div></div>"
      ],
      "text/plain": [
       "OneHotEncoder(handle_unknown='ignore')"
      ]
     },
     "execution_count": 32,
     "metadata": {},
     "output_type": "execute_result"
    }
   ],
   "source": [
    "ohe= OneHotEncoder(handle_unknown='ignore')\n",
    "ohe.fit(x_train[cat_cols])"
   ]
  },
  {
   "cell_type": "code",
   "execution_count": 33,
   "metadata": {},
   "outputs": [
    {
     "data": {
      "text/plain": [
       "26"
      ]
     },
     "execution_count": 33,
     "metadata": {},
     "output_type": "execute_result"
    }
   ],
   "source": [
    "cat_ohe_cols= ohe.get_feature_names_out()\n",
    "len(cat_ohe_cols)"
   ]
  },
  {
   "cell_type": "code",
   "execution_count": 34,
   "metadata": {},
   "outputs": [],
   "source": [
    "cat_ohe_data=pd.DataFrame(ohe.transform(x_train[cat_cols]).toarray(), columns=cat_ohe_cols)"
   ]
  },
  {
   "cell_type": "code",
   "execution_count": 35,
   "metadata": {},
   "outputs": [
    {
     "data": {
      "text/html": [
       "<div>\n",
       "<style scoped>\n",
       "    .dataframe tbody tr th:only-of-type {\n",
       "        vertical-align: middle;\n",
       "    }\n",
       "\n",
       "    .dataframe tbody tr th {\n",
       "        vertical-align: top;\n",
       "    }\n",
       "\n",
       "    .dataframe thead th {\n",
       "        text-align: right;\n",
       "    }\n",
       "</style>\n",
       "<table border=\"1\" class=\"dataframe\">\n",
       "  <thead>\n",
       "    <tr style=\"text-align: right;\">\n",
       "      <th></th>\n",
       "      <th>Item_Fat_Content_Low Fat</th>\n",
       "      <th>Item_Fat_Content_Non-Edible</th>\n",
       "      <th>Item_Fat_Content_Regular</th>\n",
       "      <th>Item_Type_Drink</th>\n",
       "      <th>Item_Type_Food</th>\n",
       "      <th>Item_Type_Non-consumables</th>\n",
       "      <th>Outlet_Identifier_OUT010</th>\n",
       "      <th>Outlet_Identifier_OUT013</th>\n",
       "      <th>Outlet_Identifier_OUT017</th>\n",
       "      <th>Outlet_Identifier_OUT018</th>\n",
       "      <th>...</th>\n",
       "      <th>Outlet_Size_High</th>\n",
       "      <th>Outlet_Size_Medium</th>\n",
       "      <th>Outlet_Size_Small</th>\n",
       "      <th>Outlet_Location_Type_Tier 1</th>\n",
       "      <th>Outlet_Location_Type_Tier 2</th>\n",
       "      <th>Outlet_Location_Type_Tier 3</th>\n",
       "      <th>Outlet_Type_Grocery Store</th>\n",
       "      <th>Outlet_Type_Supermarket Type1</th>\n",
       "      <th>Outlet_Type_Supermarket Type2</th>\n",
       "      <th>Outlet_Type_Supermarket Type3</th>\n",
       "    </tr>\n",
       "  </thead>\n",
       "  <tbody>\n",
       "    <tr>\n",
       "      <th>0</th>\n",
       "      <td>0.0</td>\n",
       "      <td>0.0</td>\n",
       "      <td>1.0</td>\n",
       "      <td>0.0</td>\n",
       "      <td>1.0</td>\n",
       "      <td>0.0</td>\n",
       "      <td>1.0</td>\n",
       "      <td>0.0</td>\n",
       "      <td>0.0</td>\n",
       "      <td>0.0</td>\n",
       "      <td>...</td>\n",
       "      <td>0.0</td>\n",
       "      <td>0.0</td>\n",
       "      <td>1.0</td>\n",
       "      <td>0.0</td>\n",
       "      <td>0.0</td>\n",
       "      <td>1.0</td>\n",
       "      <td>1.0</td>\n",
       "      <td>0.0</td>\n",
       "      <td>0.0</td>\n",
       "      <td>0.0</td>\n",
       "    </tr>\n",
       "    <tr>\n",
       "      <th>1</th>\n",
       "      <td>0.0</td>\n",
       "      <td>1.0</td>\n",
       "      <td>0.0</td>\n",
       "      <td>0.0</td>\n",
       "      <td>0.0</td>\n",
       "      <td>1.0</td>\n",
       "      <td>0.0</td>\n",
       "      <td>0.0</td>\n",
       "      <td>0.0</td>\n",
       "      <td>0.0</td>\n",
       "      <td>...</td>\n",
       "      <td>0.0</td>\n",
       "      <td>0.0</td>\n",
       "      <td>1.0</td>\n",
       "      <td>1.0</td>\n",
       "      <td>0.0</td>\n",
       "      <td>0.0</td>\n",
       "      <td>0.0</td>\n",
       "      <td>1.0</td>\n",
       "      <td>0.0</td>\n",
       "      <td>0.0</td>\n",
       "    </tr>\n",
       "    <tr>\n",
       "      <th>2</th>\n",
       "      <td>0.0</td>\n",
       "      <td>0.0</td>\n",
       "      <td>1.0</td>\n",
       "      <td>0.0</td>\n",
       "      <td>1.0</td>\n",
       "      <td>0.0</td>\n",
       "      <td>0.0</td>\n",
       "      <td>0.0</td>\n",
       "      <td>0.0</td>\n",
       "      <td>0.0</td>\n",
       "      <td>...</td>\n",
       "      <td>0.0</td>\n",
       "      <td>1.0</td>\n",
       "      <td>0.0</td>\n",
       "      <td>0.0</td>\n",
       "      <td>0.0</td>\n",
       "      <td>1.0</td>\n",
       "      <td>0.0</td>\n",
       "      <td>0.0</td>\n",
       "      <td>0.0</td>\n",
       "      <td>1.0</td>\n",
       "    </tr>\n",
       "    <tr>\n",
       "      <th>3</th>\n",
       "      <td>1.0</td>\n",
       "      <td>0.0</td>\n",
       "      <td>0.0</td>\n",
       "      <td>0.0</td>\n",
       "      <td>1.0</td>\n",
       "      <td>0.0</td>\n",
       "      <td>0.0</td>\n",
       "      <td>0.0</td>\n",
       "      <td>0.0</td>\n",
       "      <td>0.0</td>\n",
       "      <td>...</td>\n",
       "      <td>0.0</td>\n",
       "      <td>0.0</td>\n",
       "      <td>1.0</td>\n",
       "      <td>0.0</td>\n",
       "      <td>1.0</td>\n",
       "      <td>0.0</td>\n",
       "      <td>0.0</td>\n",
       "      <td>1.0</td>\n",
       "      <td>0.0</td>\n",
       "      <td>0.0</td>\n",
       "    </tr>\n",
       "    <tr>\n",
       "      <th>4</th>\n",
       "      <td>0.0</td>\n",
       "      <td>0.0</td>\n",
       "      <td>1.0</td>\n",
       "      <td>0.0</td>\n",
       "      <td>1.0</td>\n",
       "      <td>0.0</td>\n",
       "      <td>0.0</td>\n",
       "      <td>1.0</td>\n",
       "      <td>0.0</td>\n",
       "      <td>0.0</td>\n",
       "      <td>...</td>\n",
       "      <td>1.0</td>\n",
       "      <td>0.0</td>\n",
       "      <td>0.0</td>\n",
       "      <td>0.0</td>\n",
       "      <td>0.0</td>\n",
       "      <td>1.0</td>\n",
       "      <td>0.0</td>\n",
       "      <td>1.0</td>\n",
       "      <td>0.0</td>\n",
       "      <td>0.0</td>\n",
       "    </tr>\n",
       "    <tr>\n",
       "      <th>...</th>\n",
       "      <td>...</td>\n",
       "      <td>...</td>\n",
       "      <td>...</td>\n",
       "      <td>...</td>\n",
       "      <td>...</td>\n",
       "      <td>...</td>\n",
       "      <td>...</td>\n",
       "      <td>...</td>\n",
       "      <td>...</td>\n",
       "      <td>...</td>\n",
       "      <td>...</td>\n",
       "      <td>...</td>\n",
       "      <td>...</td>\n",
       "      <td>...</td>\n",
       "      <td>...</td>\n",
       "      <td>...</td>\n",
       "      <td>...</td>\n",
       "      <td>...</td>\n",
       "      <td>...</td>\n",
       "      <td>...</td>\n",
       "      <td>...</td>\n",
       "    </tr>\n",
       "    <tr>\n",
       "      <th>5961</th>\n",
       "      <td>0.0</td>\n",
       "      <td>0.0</td>\n",
       "      <td>1.0</td>\n",
       "      <td>0.0</td>\n",
       "      <td>1.0</td>\n",
       "      <td>0.0</td>\n",
       "      <td>1.0</td>\n",
       "      <td>0.0</td>\n",
       "      <td>0.0</td>\n",
       "      <td>0.0</td>\n",
       "      <td>...</td>\n",
       "      <td>0.0</td>\n",
       "      <td>0.0</td>\n",
       "      <td>1.0</td>\n",
       "      <td>0.0</td>\n",
       "      <td>0.0</td>\n",
       "      <td>1.0</td>\n",
       "      <td>1.0</td>\n",
       "      <td>0.0</td>\n",
       "      <td>0.0</td>\n",
       "      <td>0.0</td>\n",
       "    </tr>\n",
       "    <tr>\n",
       "      <th>5962</th>\n",
       "      <td>1.0</td>\n",
       "      <td>0.0</td>\n",
       "      <td>0.0</td>\n",
       "      <td>0.0</td>\n",
       "      <td>1.0</td>\n",
       "      <td>0.0</td>\n",
       "      <td>0.0</td>\n",
       "      <td>0.0</td>\n",
       "      <td>1.0</td>\n",
       "      <td>0.0</td>\n",
       "      <td>...</td>\n",
       "      <td>0.0</td>\n",
       "      <td>0.0</td>\n",
       "      <td>1.0</td>\n",
       "      <td>0.0</td>\n",
       "      <td>1.0</td>\n",
       "      <td>0.0</td>\n",
       "      <td>0.0</td>\n",
       "      <td>1.0</td>\n",
       "      <td>0.0</td>\n",
       "      <td>0.0</td>\n",
       "    </tr>\n",
       "    <tr>\n",
       "      <th>5963</th>\n",
       "      <td>0.0</td>\n",
       "      <td>1.0</td>\n",
       "      <td>0.0</td>\n",
       "      <td>0.0</td>\n",
       "      <td>0.0</td>\n",
       "      <td>1.0</td>\n",
       "      <td>0.0</td>\n",
       "      <td>0.0</td>\n",
       "      <td>0.0</td>\n",
       "      <td>0.0</td>\n",
       "      <td>...</td>\n",
       "      <td>0.0</td>\n",
       "      <td>0.0</td>\n",
       "      <td>1.0</td>\n",
       "      <td>0.0</td>\n",
       "      <td>1.0</td>\n",
       "      <td>0.0</td>\n",
       "      <td>0.0</td>\n",
       "      <td>1.0</td>\n",
       "      <td>0.0</td>\n",
       "      <td>0.0</td>\n",
       "    </tr>\n",
       "    <tr>\n",
       "      <th>5964</th>\n",
       "      <td>1.0</td>\n",
       "      <td>0.0</td>\n",
       "      <td>0.0</td>\n",
       "      <td>0.0</td>\n",
       "      <td>1.0</td>\n",
       "      <td>0.0</td>\n",
       "      <td>0.0</td>\n",
       "      <td>0.0</td>\n",
       "      <td>1.0</td>\n",
       "      <td>0.0</td>\n",
       "      <td>...</td>\n",
       "      <td>0.0</td>\n",
       "      <td>0.0</td>\n",
       "      <td>1.0</td>\n",
       "      <td>0.0</td>\n",
       "      <td>1.0</td>\n",
       "      <td>0.0</td>\n",
       "      <td>0.0</td>\n",
       "      <td>1.0</td>\n",
       "      <td>0.0</td>\n",
       "      <td>0.0</td>\n",
       "    </tr>\n",
       "    <tr>\n",
       "      <th>5965</th>\n",
       "      <td>0.0</td>\n",
       "      <td>1.0</td>\n",
       "      <td>0.0</td>\n",
       "      <td>0.0</td>\n",
       "      <td>0.0</td>\n",
       "      <td>1.0</td>\n",
       "      <td>0.0</td>\n",
       "      <td>0.0</td>\n",
       "      <td>0.0</td>\n",
       "      <td>0.0</td>\n",
       "      <td>...</td>\n",
       "      <td>0.0</td>\n",
       "      <td>0.0</td>\n",
       "      <td>1.0</td>\n",
       "      <td>1.0</td>\n",
       "      <td>0.0</td>\n",
       "      <td>0.0</td>\n",
       "      <td>0.0</td>\n",
       "      <td>1.0</td>\n",
       "      <td>0.0</td>\n",
       "      <td>0.0</td>\n",
       "    </tr>\n",
       "  </tbody>\n",
       "</table>\n",
       "<p>5966 rows × 26 columns</p>\n",
       "</div>"
      ],
      "text/plain": [
       "      Item_Fat_Content_Low Fat  Item_Fat_Content_Non-Edible  \\\n",
       "0                          0.0                          0.0   \n",
       "1                          0.0                          1.0   \n",
       "2                          0.0                          0.0   \n",
       "3                          1.0                          0.0   \n",
       "4                          0.0                          0.0   \n",
       "...                        ...                          ...   \n",
       "5961                       0.0                          0.0   \n",
       "5962                       1.0                          0.0   \n",
       "5963                       0.0                          1.0   \n",
       "5964                       1.0                          0.0   \n",
       "5965                       0.0                          1.0   \n",
       "\n",
       "      Item_Fat_Content_Regular  Item_Type_Drink  Item_Type_Food  \\\n",
       "0                          1.0              0.0             1.0   \n",
       "1                          0.0              0.0             0.0   \n",
       "2                          1.0              0.0             1.0   \n",
       "3                          0.0              0.0             1.0   \n",
       "4                          1.0              0.0             1.0   \n",
       "...                        ...              ...             ...   \n",
       "5961                       1.0              0.0             1.0   \n",
       "5962                       0.0              0.0             1.0   \n",
       "5963                       0.0              0.0             0.0   \n",
       "5964                       0.0              0.0             1.0   \n",
       "5965                       0.0              0.0             0.0   \n",
       "\n",
       "      Item_Type_Non-consumables  Outlet_Identifier_OUT010  \\\n",
       "0                           0.0                       1.0   \n",
       "1                           1.0                       0.0   \n",
       "2                           0.0                       0.0   \n",
       "3                           0.0                       0.0   \n",
       "4                           0.0                       0.0   \n",
       "...                         ...                       ...   \n",
       "5961                        0.0                       1.0   \n",
       "5962                        0.0                       0.0   \n",
       "5963                        1.0                       0.0   \n",
       "5964                        0.0                       0.0   \n",
       "5965                        1.0                       0.0   \n",
       "\n",
       "      Outlet_Identifier_OUT013  Outlet_Identifier_OUT017  \\\n",
       "0                          0.0                       0.0   \n",
       "1                          0.0                       0.0   \n",
       "2                          0.0                       0.0   \n",
       "3                          0.0                       0.0   \n",
       "4                          1.0                       0.0   \n",
       "...                        ...                       ...   \n",
       "5961                       0.0                       0.0   \n",
       "5962                       0.0                       1.0   \n",
       "5963                       0.0                       0.0   \n",
       "5964                       0.0                       1.0   \n",
       "5965                       0.0                       0.0   \n",
       "\n",
       "      Outlet_Identifier_OUT018  ...  Outlet_Size_High  Outlet_Size_Medium  \\\n",
       "0                          0.0  ...               0.0                 0.0   \n",
       "1                          0.0  ...               0.0                 0.0   \n",
       "2                          0.0  ...               0.0                 1.0   \n",
       "3                          0.0  ...               0.0                 0.0   \n",
       "4                          0.0  ...               1.0                 0.0   \n",
       "...                        ...  ...               ...                 ...   \n",
       "5961                       0.0  ...               0.0                 0.0   \n",
       "5962                       0.0  ...               0.0                 0.0   \n",
       "5963                       0.0  ...               0.0                 0.0   \n",
       "5964                       0.0  ...               0.0                 0.0   \n",
       "5965                       0.0  ...               0.0                 0.0   \n",
       "\n",
       "      Outlet_Size_Small  Outlet_Location_Type_Tier 1  \\\n",
       "0                   1.0                          0.0   \n",
       "1                   1.0                          1.0   \n",
       "2                   0.0                          0.0   \n",
       "3                   1.0                          0.0   \n",
       "4                   0.0                          0.0   \n",
       "...                 ...                          ...   \n",
       "5961                1.0                          0.0   \n",
       "5962                1.0                          0.0   \n",
       "5963                1.0                          0.0   \n",
       "5964                1.0                          0.0   \n",
       "5965                1.0                          1.0   \n",
       "\n",
       "      Outlet_Location_Type_Tier 2  Outlet_Location_Type_Tier 3  \\\n",
       "0                             0.0                          1.0   \n",
       "1                             0.0                          0.0   \n",
       "2                             0.0                          1.0   \n",
       "3                             1.0                          0.0   \n",
       "4                             0.0                          1.0   \n",
       "...                           ...                          ...   \n",
       "5961                          0.0                          1.0   \n",
       "5962                          1.0                          0.0   \n",
       "5963                          1.0                          0.0   \n",
       "5964                          1.0                          0.0   \n",
       "5965                          0.0                          0.0   \n",
       "\n",
       "      Outlet_Type_Grocery Store  Outlet_Type_Supermarket Type1  \\\n",
       "0                           1.0                            0.0   \n",
       "1                           0.0                            1.0   \n",
       "2                           0.0                            0.0   \n",
       "3                           0.0                            1.0   \n",
       "4                           0.0                            1.0   \n",
       "...                         ...                            ...   \n",
       "5961                        1.0                            0.0   \n",
       "5962                        0.0                            1.0   \n",
       "5963                        0.0                            1.0   \n",
       "5964                        0.0                            1.0   \n",
       "5965                        0.0                            1.0   \n",
       "\n",
       "      Outlet_Type_Supermarket Type2  Outlet_Type_Supermarket Type3  \n",
       "0                               0.0                            0.0  \n",
       "1                               0.0                            0.0  \n",
       "2                               0.0                            1.0  \n",
       "3                               0.0                            0.0  \n",
       "4                               0.0                            0.0  \n",
       "...                             ...                            ...  \n",
       "5961                            0.0                            0.0  \n",
       "5962                            0.0                            0.0  \n",
       "5963                            0.0                            0.0  \n",
       "5964                            0.0                            0.0  \n",
       "5965                            0.0                            0.0  \n",
       "\n",
       "[5966 rows x 26 columns]"
      ]
     },
     "execution_count": 35,
     "metadata": {},
     "output_type": "execute_result"
    }
   ],
   "source": [
    "cat_ohe_data"
   ]
  },
  {
   "cell_type": "code",
   "execution_count": 36,
   "metadata": {},
   "outputs": [
    {
     "data": {
      "text/html": [
       "<div>\n",
       "<style scoped>\n",
       "    .dataframe tbody tr th:only-of-type {\n",
       "        vertical-align: middle;\n",
       "    }\n",
       "\n",
       "    .dataframe tbody tr th {\n",
       "        vertical-align: top;\n",
       "    }\n",
       "\n",
       "    .dataframe thead th {\n",
       "        text-align: right;\n",
       "    }\n",
       "</style>\n",
       "<table border=\"1\" class=\"dataframe\">\n",
       "  <thead>\n",
       "    <tr style=\"text-align: right;\">\n",
       "      <th></th>\n",
       "      <th>Item_Weight</th>\n",
       "      <th>Item_Visibility</th>\n",
       "      <th>Item_MRP</th>\n",
       "      <th>Outlet_Establishment_Year</th>\n",
       "    </tr>\n",
       "  </thead>\n",
       "  <tbody>\n",
       "    <tr>\n",
       "      <th>0</th>\n",
       "      <td>7.720</td>\n",
       "      <td>0.147904</td>\n",
       "      <td>116.6466</td>\n",
       "      <td>1998</td>\n",
       "    </tr>\n",
       "    <tr>\n",
       "      <th>1</th>\n",
       "      <td>19.750</td>\n",
       "      <td>0.014301</td>\n",
       "      <td>103.0332</td>\n",
       "      <td>1997</td>\n",
       "    </tr>\n",
       "    <tr>\n",
       "      <th>2</th>\n",
       "      <td>8.600</td>\n",
       "      <td>0.054221</td>\n",
       "      <td>129.1310</td>\n",
       "      <td>1985</td>\n",
       "    </tr>\n",
       "    <tr>\n",
       "      <th>3</th>\n",
       "      <td>19.350</td>\n",
       "      <td>0.118342</td>\n",
       "      <td>222.6088</td>\n",
       "      <td>2002</td>\n",
       "    </tr>\n",
       "    <tr>\n",
       "      <th>4</th>\n",
       "      <td>18.350</td>\n",
       "      <td>0.092150</td>\n",
       "      <td>184.8266</td>\n",
       "      <td>1987</td>\n",
       "    </tr>\n",
       "    <tr>\n",
       "      <th>...</th>\n",
       "      <td>...</td>\n",
       "      <td>...</td>\n",
       "      <td>...</td>\n",
       "      <td>...</td>\n",
       "    </tr>\n",
       "    <tr>\n",
       "      <th>5961</th>\n",
       "      <td>9.395</td>\n",
       "      <td>0.286345</td>\n",
       "      <td>139.1838</td>\n",
       "      <td>1998</td>\n",
       "    </tr>\n",
       "    <tr>\n",
       "      <th>5962</th>\n",
       "      <td>15.600</td>\n",
       "      <td>0.117575</td>\n",
       "      <td>75.6670</td>\n",
       "      <td>2007</td>\n",
       "    </tr>\n",
       "    <tr>\n",
       "      <th>5963</th>\n",
       "      <td>17.600</td>\n",
       "      <td>0.018944</td>\n",
       "      <td>237.3590</td>\n",
       "      <td>2002</td>\n",
       "    </tr>\n",
       "    <tr>\n",
       "      <th>5964</th>\n",
       "      <td>20.350</td>\n",
       "      <td>0.054363</td>\n",
       "      <td>117.9466</td>\n",
       "      <td>2007</td>\n",
       "    </tr>\n",
       "    <tr>\n",
       "      <th>5965</th>\n",
       "      <td>16.350</td>\n",
       "      <td>0.016993</td>\n",
       "      <td>95.7410</td>\n",
       "      <td>1997</td>\n",
       "    </tr>\n",
       "  </tbody>\n",
       "</table>\n",
       "<p>5966 rows × 4 columns</p>\n",
       "</div>"
      ],
      "text/plain": [
       "      Item_Weight  Item_Visibility  Item_MRP  Outlet_Establishment_Year\n",
       "0           7.720         0.147904  116.6466                       1998\n",
       "1          19.750         0.014301  103.0332                       1997\n",
       "2           8.600         0.054221  129.1310                       1985\n",
       "3          19.350         0.118342  222.6088                       2002\n",
       "4          18.350         0.092150  184.8266                       1987\n",
       "...           ...              ...       ...                        ...\n",
       "5961        9.395         0.286345  139.1838                       1998\n",
       "5962       15.600         0.117575   75.6670                       2007\n",
       "5963       17.600         0.018944  237.3590                       2002\n",
       "5964       20.350         0.054363  117.9466                       2007\n",
       "5965       16.350         0.016993   95.7410                       1997\n",
       "\n",
       "[5966 rows x 4 columns]"
      ]
     },
     "execution_count": 36,
     "metadata": {},
     "output_type": "execute_result"
    }
   ],
   "source": [
    "num_data =x_train[num_cols].reset_index(drop=True)\n",
    "num_data"
   ]
  },
  {
   "cell_type": "code",
   "execution_count": 37,
   "metadata": {},
   "outputs": [
    {
     "data": {
      "text/plain": [
       "(5966, 30)"
      ]
     },
     "execution_count": 37,
     "metadata": {},
     "output_type": "execute_result"
    }
   ],
   "source": [
    "x_train_final = pd.concat([num_data, cat_ohe_data], axis=1)\n",
    "x_train_final.shape"
   ]
  },
  {
   "cell_type": "code",
   "execution_count": 38,
   "metadata": {},
   "outputs": [
    {
     "data": {
      "text/html": [
       "<div>\n",
       "<style scoped>\n",
       "    .dataframe tbody tr th:only-of-type {\n",
       "        vertical-align: middle;\n",
       "    }\n",
       "\n",
       "    .dataframe tbody tr th {\n",
       "        vertical-align: top;\n",
       "    }\n",
       "\n",
       "    .dataframe thead th {\n",
       "        text-align: right;\n",
       "    }\n",
       "</style>\n",
       "<table border=\"1\" class=\"dataframe\">\n",
       "  <thead>\n",
       "    <tr style=\"text-align: right;\">\n",
       "      <th></th>\n",
       "      <th>Item_Identifier</th>\n",
       "      <th>Item_Fat_Content</th>\n",
       "      <th>Item_Type</th>\n",
       "      <th>Outlet_Identifier</th>\n",
       "      <th>Outlet_Size</th>\n",
       "      <th>Outlet_Location_Type</th>\n",
       "      <th>Outlet_Type</th>\n",
       "    </tr>\n",
       "  </thead>\n",
       "  <tbody>\n",
       "    <tr>\n",
       "      <th>7503</th>\n",
       "      <td>FDI28</td>\n",
       "      <td>Low Fat</td>\n",
       "      <td>Food</td>\n",
       "      <td>OUT013</td>\n",
       "      <td>High</td>\n",
       "      <td>Tier 3</td>\n",
       "      <td>Supermarket Type1</td>\n",
       "    </tr>\n",
       "    <tr>\n",
       "      <th>2957</th>\n",
       "      <td>NCM17</td>\n",
       "      <td>Non-Edible</td>\n",
       "      <td>Non-consumables</td>\n",
       "      <td>OUT046</td>\n",
       "      <td>Small</td>\n",
       "      <td>Tier 1</td>\n",
       "      <td>Supermarket Type1</td>\n",
       "    </tr>\n",
       "    <tr>\n",
       "      <th>7031</th>\n",
       "      <td>FDC14</td>\n",
       "      <td>Regular</td>\n",
       "      <td>Food</td>\n",
       "      <td>OUT049</td>\n",
       "      <td>Medium</td>\n",
       "      <td>Tier 1</td>\n",
       "      <td>Supermarket Type1</td>\n",
       "    </tr>\n",
       "    <tr>\n",
       "      <th>1084</th>\n",
       "      <td>DRC36</td>\n",
       "      <td>Regular</td>\n",
       "      <td>Drink</td>\n",
       "      <td>OUT027</td>\n",
       "      <td>Medium</td>\n",
       "      <td>Tier 3</td>\n",
       "      <td>Supermarket Type3</td>\n",
       "    </tr>\n",
       "    <tr>\n",
       "      <th>856</th>\n",
       "      <td>FDS27</td>\n",
       "      <td>Regular</td>\n",
       "      <td>Food</td>\n",
       "      <td>OUT035</td>\n",
       "      <td>Small</td>\n",
       "      <td>Tier 2</td>\n",
       "      <td>Supermarket Type1</td>\n",
       "    </tr>\n",
       "    <tr>\n",
       "      <th>...</th>\n",
       "      <td>...</td>\n",
       "      <td>...</td>\n",
       "      <td>...</td>\n",
       "      <td>...</td>\n",
       "      <td>...</td>\n",
       "      <td>...</td>\n",
       "      <td>...</td>\n",
       "    </tr>\n",
       "    <tr>\n",
       "      <th>443</th>\n",
       "      <td>NCJ18</td>\n",
       "      <td>Non-Edible</td>\n",
       "      <td>Non-consumables</td>\n",
       "      <td>OUT049</td>\n",
       "      <td>Medium</td>\n",
       "      <td>Tier 1</td>\n",
       "      <td>Supermarket Type1</td>\n",
       "    </tr>\n",
       "    <tr>\n",
       "      <th>777</th>\n",
       "      <td>FDK26</td>\n",
       "      <td>Regular</td>\n",
       "      <td>Food</td>\n",
       "      <td>OUT035</td>\n",
       "      <td>Small</td>\n",
       "      <td>Tier 2</td>\n",
       "      <td>Supermarket Type1</td>\n",
       "    </tr>\n",
       "    <tr>\n",
       "      <th>1119</th>\n",
       "      <td>NCF18</td>\n",
       "      <td>Non-Edible</td>\n",
       "      <td>Non-consumables</td>\n",
       "      <td>OUT010</td>\n",
       "      <td>Small</td>\n",
       "      <td>Tier 3</td>\n",
       "      <td>Grocery Store</td>\n",
       "    </tr>\n",
       "    <tr>\n",
       "      <th>3209</th>\n",
       "      <td>FDZ57</td>\n",
       "      <td>Regular</td>\n",
       "      <td>Food</td>\n",
       "      <td>OUT017</td>\n",
       "      <td>Small</td>\n",
       "      <td>Tier 2</td>\n",
       "      <td>Supermarket Type1</td>\n",
       "    </tr>\n",
       "    <tr>\n",
       "      <th>3742</th>\n",
       "      <td>FDX31</td>\n",
       "      <td>Regular</td>\n",
       "      <td>Food</td>\n",
       "      <td>OUT035</td>\n",
       "      <td>Small</td>\n",
       "      <td>Tier 2</td>\n",
       "      <td>Supermarket Type1</td>\n",
       "    </tr>\n",
       "  </tbody>\n",
       "</table>\n",
       "<p>2557 rows × 7 columns</p>\n",
       "</div>"
      ],
      "text/plain": [
       "     Item_Identifier Item_Fat_Content        Item_Type Outlet_Identifier  \\\n",
       "7503           FDI28          Low Fat             Food            OUT013   \n",
       "2957           NCM17       Non-Edible  Non-consumables            OUT046   \n",
       "7031           FDC14          Regular             Food            OUT049   \n",
       "1084           DRC36          Regular            Drink            OUT027   \n",
       "856            FDS27          Regular             Food            OUT035   \n",
       "...              ...              ...              ...               ...   \n",
       "443            NCJ18       Non-Edible  Non-consumables            OUT049   \n",
       "777            FDK26          Regular             Food            OUT035   \n",
       "1119           NCF18       Non-Edible  Non-consumables            OUT010   \n",
       "3209           FDZ57          Regular             Food            OUT017   \n",
       "3742           FDX31          Regular             Food            OUT035   \n",
       "\n",
       "     Outlet_Size Outlet_Location_Type        Outlet_Type  \n",
       "7503        High               Tier 3  Supermarket Type1  \n",
       "2957       Small               Tier 1  Supermarket Type1  \n",
       "7031      Medium               Tier 1  Supermarket Type1  \n",
       "1084      Medium               Tier 3  Supermarket Type3  \n",
       "856        Small               Tier 2  Supermarket Type1  \n",
       "...          ...                  ...                ...  \n",
       "443       Medium               Tier 1  Supermarket Type1  \n",
       "777        Small               Tier 2  Supermarket Type1  \n",
       "1119       Small               Tier 3      Grocery Store  \n",
       "3209       Small               Tier 2  Supermarket Type1  \n",
       "3742       Small               Tier 2  Supermarket Type1  \n",
       "\n",
       "[2557 rows x 7 columns]"
      ]
     },
     "execution_count": 38,
     "metadata": {},
     "output_type": "execute_result"
    }
   ],
   "source": [
    "#separate numerical and categorical columns in test dataset\n",
    "num_cols_test = x_test.select_dtypes(exclude='O').reset_index(drop=True)\n",
    "num_cols_test\n",
    "\n",
    "cat_cols_test = x_test.select_dtypes(include='O')\n",
    "cat_cols_test"
   ]
  },
  {
   "cell_type": "code",
   "execution_count": 39,
   "metadata": {},
   "outputs": [],
   "source": [
    "#apply ohe on categorical columns in test dataset\n",
    "# x_test=x_test.drop(['Item_Identifier'], axis=1)\n",
    "# cat_cols_test=x_test.describe(include='O').columns\n",
    "# ohe.transform(cat_cols_test).toarray()"
   ]
  },
  {
   "cell_type": "code",
   "execution_count": 40,
   "metadata": {},
   "outputs": [],
   "source": [
    "# cat_ohe_test = pd.DataFrame(ohe.transform(cat_cols_test).toarray(), columns =cat_ohe_cols)\n",
    "# cat_ohe_test"
   ]
  },
  {
   "cell_type": "code",
   "execution_count": 41,
   "metadata": {},
   "outputs": [],
   "source": [
    "# x_test_final = pd.concat([num_cols_test, cat_ohe_test], axis=1)\n",
    "# x_test_final"
   ]
  },
  {
   "cell_type": "markdown",
   "metadata": {},
   "source": [
    "## Training and evaluating the model"
   ]
  },
  {
   "cell_type": "code",
   "execution_count": 42,
   "metadata": {},
   "outputs": [],
   "source": [
    "def model_selection(model, x_train, y_train, cv=5):\n",
    "    cv_results = cross_validate(model, x_train, y_train, cv= cv, scoring =('r2','neg_mean_squared_error'))\n",
    "    print('Model:', model)\n",
    "    \n",
    "    r2= cv_results['test_r2']\n",
    "    print('R2:', r2)\n",
    "    print('R2 Mean:', np.mean(r2))\n",
    "    print('R2 StdDev:', np.std(r2))\n",
    "    \n",
    "    rmse=cv_results['test_neg_mean_squared_error']\n",
    "    rmse = [-1*score for score in rmse]\n",
    "    print('RMSE:', rmse)\n",
    "    print('RMSE Mean:', np.mean(rmse))\n",
    "    print('RMSE StdDev:', np.std(rmse))"
   ]
  },
  {
   "cell_type": "markdown",
   "metadata": {},
   "source": [
    "### Model selection using cv"
   ]
  },
  {
   "cell_type": "markdown",
   "metadata": {},
   "source": [
    "During model seletion using CV, .fit is not used for training the model. It will be used once a model is selected based on cross validation score."
   ]
  },
  {
   "cell_type": "code",
   "execution_count": 43,
   "metadata": {},
   "outputs": [
    {
     "name": "stdout",
     "output_type": "stream",
     "text": [
      "Model: RandomForestRegressor(random_state=42)\n",
      "R2: [0.56488808 0.52675279 0.53652437 0.55807598 0.54057303]\n",
      "R2 Mean: 0.5453628498150854\n",
      "R2 StdDev: 0.014073048786314574\n",
      "RMSE: [1235199.9907374785, 1365507.5438994246, 1412992.7544734948, 1321182.6311530222, 1383582.5094844834]\n",
      "RMSE Mean: 1343693.0859495807\n",
      "RMSE StdDev: 61882.07014469848\n"
     ]
    }
   ],
   "source": [
    "rf=RandomForestRegressor(random_state=42)\n",
    "model_selection(model=rf, x_train=x_train_final, y_train=y_train, cv=5)"
   ]
  },
  {
   "cell_type": "code",
   "execution_count": 44,
   "metadata": {},
   "outputs": [
    {
     "name": "stdout",
     "output_type": "stream",
     "text": [
      "Model: GradientBoostingRegressor(random_state=42)\n",
      "R2: [0.60288158 0.58472203 0.57724322 0.61716814 0.5638745 ]\n",
      "R2 Mean: 0.5891778949881001\n",
      "R2 StdDev: 0.018835063642191396\n",
      "RMSE: [1127343.6496925885, 1198243.1005982335, 1288853.662781527, 1144519.8236529506, 1313409.2203101008]\n",
      "RMSE Mean: 1214473.8914070805\n",
      "RMSE StdDev: 74925.61495472628\n"
     ]
    }
   ],
   "source": [
    "gb=GradientBoostingRegressor(random_state=42)\n",
    "model_selection(model=gb, x_train=x_train_final, y_train=y_train, cv=5)"
   ]
  },
  {
   "cell_type": "code",
   "execution_count": null,
   "metadata": {},
   "outputs": [],
   "source": []
  }
 ],
 "metadata": {
  "kernelspec": {
   "display_name": "Python 3 (ipykernel)",
   "language": "python",
   "name": "python3"
  },
  "language_info": {
   "codemirror_mode": {
    "name": "ipython",
    "version": 3
   },
   "file_extension": ".py",
   "mimetype": "text/x-python",
   "name": "python",
   "nbconvert_exporter": "python",
   "pygments_lexer": "ipython3",
   "version": "3.8.18"
  }
 },
 "nbformat": 4,
 "nbformat_minor": 4
}
